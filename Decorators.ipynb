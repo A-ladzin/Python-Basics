{
 "cells": [
  {
   "cell_type": "code",
   "execution_count": 2,
   "metadata": {},
   "outputs": [],
   "source": [
    "def select(input_func):\n",
    "    def output_func(*args): # перехватываем аргументы оригиальной функции\n",
    "        print(\"******\")\n",
    "        if len(args) == 0: # Выполняем проверку аргументов за пределами оригинальной функции\n",
    "            print(\"Hello World\")\n",
    "        input_func(*args)   # передаем перехваченные аргументы\n",
    "        print(\"***********\")\n",
    "    return output_func\n",
    "\n",
    "\n",
    "@select\n",
    "def hello(*h):\n",
    "    print(*h)"
   ]
  },
  {
   "cell_type": "code",
   "execution_count": 3,
   "metadata": {},
   "outputs": [
    {
     "name": "stdout",
     "output_type": "stream",
     "text": [
      "******\n",
      "Hello Hola Hallo\n",
      "***********\n"
     ]
    }
   ],
   "source": [
    "hello(\"Hello\", \"Hola\", \"Hallo\")"
   ]
  },
  {
   "cell_type": "code",
   "execution_count": 4,
   "metadata": {},
   "outputs": [
    {
     "name": "stdout",
     "output_type": "stream",
     "text": [
      "******\n",
      "Hello World\n",
      "\n",
      "***********\n"
     ]
    }
   ],
   "source": [
    "hello()"
   ]
  },
  {
   "cell_type": "code",
   "execution_count": null,
   "metadata": {},
   "outputs": [],
   "source": []
  }
 ],
 "metadata": {
  "kernelspec": {
   "display_name": "Python 3",
   "language": "python",
   "name": "python3"
  },
  "language_info": {
   "codemirror_mode": {
    "name": "ipython",
    "version": 3
   },
   "file_extension": ".py",
   "mimetype": "text/x-python",
   "name": "python",
   "nbconvert_exporter": "python",
   "pygments_lexer": "ipython3",
   "version": "3.12.0"
  }
 },
 "nbformat": 4,
 "nbformat_minor": 2
}
