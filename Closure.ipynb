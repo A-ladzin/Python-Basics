{
 "cells": [
  {
   "cell_type": "code",
   "execution_count": 89,
   "metadata": {},
   "outputs": [],
   "source": [
    "# Замыкание - closure\n",
    "\n",
    "def outer(): # Внешняя функция\n",
    "    n:int = 5  # Лексическое окружение\n",
    "    def inner():    # Вложенная функция\n",
    "        nonlocal n\n",
    "        n+=1        # операции с лексическим окружением\n",
    "        print(n)\n",
    "    return inner"
   ]
  },
  {
   "cell_type": "code",
   "execution_count": 90,
   "metadata": {},
   "outputs": [],
   "source": [
    "fn = outer()"
   ]
  },
  {
   "cell_type": "code",
   "execution_count": 100,
   "metadata": {},
   "outputs": [
    {
     "name": "stdout",
     "output_type": "stream",
     "text": [
      "14\n",
      "Inner14\n"
     ]
    }
   ],
   "source": [
    "fn()"
   ]
  },
  {
   "cell_type": "code",
   "execution_count": 101,
   "metadata": {},
   "outputs": [
    {
     "name": "stdout",
     "output_type": "stream",
     "text": [
      "15\n"
     ]
    },
    {
     "data": {
      "text/plain": [
       "<function __main__.outer.<locals>.inner.<locals>.inner_inner()>"
      ]
     },
     "execution_count": 101,
     "metadata": {},
     "output_type": "execute_result"
    }
   ],
   "source": [
    "fn()"
   ]
  },
  {
   "cell_type": "code",
   "execution_count": 147,
   "metadata": {},
   "outputs": [],
   "source": [
    "\n",
    "def outer_outer(): # Внешняя функция\n",
    "    n:int = 5  # Лексическое окружение\n",
    "    print(f'Outer {n}')\n",
    "    def inner():    # Вложенная функция\n",
    "        nonlocal n\n",
    "        n+=1        # операции с лексическим окружением\n",
    "        print(n)\n",
    "        def inner_inner():\n",
    "            nonlocal n\n",
    "            n+=1\n",
    "            print(f'Inner{n}')\n",
    "        return inner_inner\n",
    "    return inner"
   ]
  },
  {
   "cell_type": "code",
   "execution_count": 150,
   "metadata": {},
   "outputs": [
    {
     "name": "stdout",
     "output_type": "stream",
     "text": [
      "Outer 5\n",
      "6\n",
      "Inner7\n"
     ]
    }
   ],
   "source": [
    "fn_o = outer_outer()\n",
    "fn_o()()"
   ]
  },
  {
   "cell_type": "code",
   "execution_count": 161,
   "metadata": {},
   "outputs": [
    {
     "name": "stdout",
     "output_type": "stream",
     "text": [
      "28\n",
      "Inner29\n"
     ]
    }
   ],
   "source": [
    "fn_o()()"
   ]
  },
  {
   "cell_type": "code",
   "execution_count": 172,
   "metadata": {},
   "outputs": [],
   "source": [
    "def multiply(n): ## Remembers args with initialization\n",
    "    def inner(m): return n*m ## Inner args are passed when calleed\n",
    "    return inner"
   ]
  },
  {
   "cell_type": "code",
   "execution_count": 171,
   "metadata": {},
   "outputs": [
    {
     "data": {
      "text/plain": [
       "50"
      ]
     },
     "execution_count": 171,
     "metadata": {},
     "output_type": "execute_result"
    }
   ],
   "source": [
    "fn_m = multiply(5)\n",
    "fn_m(10)"
   ]
  },
  {
   "cell_type": "code",
   "execution_count": 178,
   "metadata": {},
   "outputs": [
    {
     "data": {
      "text/plain": [
       "25"
      ]
     },
     "execution_count": 178,
     "metadata": {},
     "output_type": "execute_result"
    }
   ],
   "source": [
    "def multiply_l(n): return lambda m:n*m  ## Lambda-view\n",
    "\n",
    "fn_l_m = multiply_l(5)\n",
    "fn_l_m(5)"
   ]
  },
  {
   "cell_type": "code",
   "execution_count": 179,
   "metadata": {},
   "outputs": [],
   "source": []
  }
 ],
 "metadata": {
  "kernelspec": {
   "display_name": "Python 3",
   "language": "python",
   "name": "python3"
  },
  "language_info": {
   "codemirror_mode": {
    "name": "ipython",
    "version": 3
   },
   "file_extension": ".py",
   "mimetype": "text/x-python",
   "name": "python",
   "nbconvert_exporter": "python",
   "pygments_lexer": "ipython3",
   "version": "3.12.0"
  }
 },
 "nbformat": 4,
 "nbformat_minor": 2
}
