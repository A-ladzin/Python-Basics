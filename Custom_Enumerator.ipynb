{
 "cells": [
  {
   "cell_type": "code",
   "execution_count": 10,
   "metadata": {},
   "outputs": [
    {
     "data": {
      "text/plain": [
       "0.4653980386192365"
      ]
     },
     "execution_count": 10,
     "metadata": {},
     "output_type": "execute_result"
    }
   ],
   "source": [
    "\n",
    "\n",
    "from  math import *\n",
    "class Enumerator():\n",
    "    \n",
    "    __enum = None\n",
    "    def __init__(self, *args):\n",
    "        self.__enum = dict(((k,v) for (v,k) in enumerate(args)))\n",
    "        \n",
    "\n",
    "    def __getitem__(self,value):\n",
    "        return self.__enum[value]\n",
    "\n",
    "\n",
    "\n",
    "chain = [\"Red\",\"Yellow\",\"Black\",\"Pink\",\"Blue\",\"Purple\"]\n",
    "\n",
    "\n",
    "\n",
    "params = [None for i in range(len(chain))]\n",
    "pos = Enumerator(*chain)\n",
    "\n",
    "\n",
    "params[pos[\"Purple\"]] = 1/(1+exp2(0.2))\n",
    "params[pos[\"Red\"]]= tanh(-2)\n",
    "params[pos[\"Black\"]] = cos(3.1)*sin(sqrt(pi))\n",
    "params[pos[\"Blue\"]] = 9\n",
    "params[pos[\"Pink\"]] = tan(2)/sin(3)\n",
    "\n",
    "params[pos[\"Purple\"]]\n",
    "\n",
    "\n",
    "\n",
    "\n",
    "\n"
   ]
  }
 ],
 "metadata": {
  "kernelspec": {
   "display_name": "Python 3",
   "language": "python",
   "name": "python3"
  },
  "language_info": {
   "codemirror_mode": {
    "name": "ipython",
    "version": 3
   },
   "file_extension": ".py",
   "mimetype": "text/x-python",
   "name": "python",
   "nbconvert_exporter": "python",
   "pygments_lexer": "ipython3",
   "version": "3.12.0"
  }
 },
 "nbformat": 4,
 "nbformat_minor": 2
}
