{
 "cells": [
  {
   "cell_type": "code",
   "execution_count": 18,
   "metadata": {},
   "outputs": [
    {
     "name": "stdout",
     "output_type": "stream",
     "text": [
      "Bye:\t invalid literal for int() with base 10: 'asf'\n",
      "The end\n"
     ]
    }
   ],
   "source": [
    "string = \"asf\"\n",
    "try:            ## trye\n",
    "    number = int(string)\n",
    "    print(number)\n",
    "except ValueError as e:  ## Catch exception\n",
    "    print(\"Bye:\\t\", e)\n",
    "else:               ## If no exception\n",
    "    print(\"Ok\")\n",
    "finally:            ## Implemented in any case\n",
    "    print(\"The end\")"
   ]
  },
  {
   "cell_type": "code",
   "execution_count": 25,
   "metadata": {},
   "outputs": [
    {
     "name": "stdout",
     "output_type": "stream",
     "text": [
      "Value Errar\n"
     ]
    }
   ],
   "source": [
    "\n",
    "try:\n",
    "    number = int(input())\n",
    "    if number == 0:\n",
    "        raise ValueError(\"Value Errar\")\n",
    "    print(number)\n",
    "except ValueError as e:\n",
    "    print(e)"
   ]
  },
  {
   "cell_type": "code",
   "execution_count": null,
   "metadata": {},
   "outputs": [],
   "source": []
  }
 ],
 "metadata": {
  "kernelspec": {
   "display_name": "Python 3",
   "language": "python",
   "name": "python3"
  },
  "language_info": {
   "codemirror_mode": {
    "name": "ipython",
    "version": 3
   },
   "file_extension": ".py",
   "mimetype": "text/x-python",
   "name": "python",
   "nbconvert_exporter": "python",
   "pygments_lexer": "ipython3",
   "version": "3.12.0"
  }
 },
 "nbformat": 4,
 "nbformat_minor": 2
}
